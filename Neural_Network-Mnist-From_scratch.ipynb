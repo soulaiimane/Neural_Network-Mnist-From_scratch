{
 "cells": [
  {
   "cell_type": "code",
   "execution_count": 1,
   "id": "48974557",
   "metadata": {},
   "outputs": [
    {
     "name": "stderr",
     "output_type": "stream",
     "text": [
      "C:\\Users\\lenovo\\anaconda3\\envs\\tfkk\\lib\\site-packages\\sklearn\\datasets\\_openml.py:968: FutureWarning: The default value of `parser` will change from `'liac-arff'` to `'auto'` in 1.4. You can set `parser='auto'` to silence this warning. Therefore, an `ImportError` will be raised from 1.4 if the dataset is dense and pandas is not installed. Note that the pandas parser may return different data types. See the Notes Section in fetch_openml's API doc for details.\n",
      "  warn(\n"
     ]
    },
    {
     "data": {
      "image/png": "[encoded data removed]",
      "text/plain": [
       "<Figure size 640x480 with 10 Axes>"
      ]
     },
     "metadata": {},
     "output_type": "display_data"
    },
    {
     "name": "stderr",
     "output_type": "stream",
     "text": [
      "C:\\Users\\lenovo\\anaconda3\\envs\\tfkk\\lib\\site-packages\\sklearn\\preprocessing\\_encoders.py:868: FutureWarning: `sparse` was renamed to `sparse_output` in version 1.2 and will be removed in 1.4. `sparse_output` is ignored unless you leave `sparse` to its default value.\n",
      "  warnings.warn(\n"
     ]
    },
    {
     "name": "stdout",
     "output_type": "stream",
     "text": [
      "Epoch: 0 Loss: 0.25839328912695037\n"
     ]
    },
    {
     "name": "stderr",
     "output_type": "stream",
     "text": [
      "C:\\Users\\lenovo\\AppData\\Local\\Temp\\ipykernel_7600\\2082987389.py:35: RuntimeWarning: overflow encountered in exp\n",
      "  return 1 / (1 + np.exp(-x))  # La fonction sigmoïde transforme les valeurs en probabilités\n"
     ]
    },
    {
     "name": "stdout",
     "output_type": "stream",
     "text": [
      "Epoch: 10 Loss: 0.1\n",
      "Epoch: 20 Loss: 0.1\n",
      "Epoch: 30 Loss: 0.1\n",
      "Epoch: 40 Loss: 0.5472285865075693\n",
      "Epoch: 50 Loss: 0.2034050414571743\n",
      "Epoch: 60 Loss: 0.11585372202654214\n",
      "Epoch: 70 Loss: 0.07475742649169184\n",
      "Epoch: 80 Loss: 0.10689080639257227\n",
      "Epoch: 90 Loss: 0.11096641086021419\n",
      "Epoch: 100 Loss: 0.0551263262777082\n",
      "Epoch: 110 Loss: 0.04560490358837539\n",
      "Epoch: 120 Loss: 0.05026764533127635\n",
      "Epoch: 130 Loss: 0.04487163507950557\n",
      "Epoch: 140 Loss: 0.04995661585008134\n",
      "Epoch: 150 Loss: 0.0434277929649409\n",
      "Epoch: 160 Loss: 0.04384444616932663\n",
      "Epoch: 170 Loss: 0.04123373937104449\n",
      "Epoch: 180 Loss: 0.034671805149013774\n",
      "Epoch: 190 Loss: 0.04643966014769449\n",
      "Epoch: 200 Loss: 0.03364851795200263\n",
      "Epoch: 210 Loss: 0.04331392223791717\n",
      "Epoch: 220 Loss: 0.039497358163890765\n",
      "Epoch: 230 Loss: 0.04309048940377776\n",
      "Epoch: 240 Loss: 0.05657387139175853\n",
      "Epoch: 250 Loss: 0.04979060684533287\n",
      "Epoch: 260 Loss: 0.042615801832378564\n",
      "Epoch: 270 Loss: 0.03325800603116619\n",
      "Epoch: 280 Loss: 0.04280721072004263\n",
      "Epoch: 290 Loss: 0.03955445554468033\n",
      "Epoch: 300 Loss: 0.04065628501112357\n",
      "Epoch: 310 Loss: 0.04609979844576078\n",
      "Epoch: 320 Loss: 0.03317205690197814\n",
      "Epoch: 330 Loss: 0.08305104596609471\n",
      "Epoch: 340 Loss: 0.034097055005348625\n",
      "Epoch: 350 Loss: 0.04785075458699577\n",
      "Epoch: 360 Loss: 0.04444127223961207\n",
      "Epoch: 370 Loss: 0.0323566036394533\n",
      "Epoch: 380 Loss: 0.04262526948180293\n",
      "Epoch: 390 Loss: 0.04210933494571931\n",
      "Test Accuracy: 0.8696428571428572\n"
     ]
    }
   ],
   "source": [
    "    import numpy as np\n",
    "    from sklearn.datasets import fetch_openml\n",
    "    from sklearn.model_selection import train_test_split\n",
    "    from sklearn.preprocessing import OneHotEncoder\n",
    "    from sklearn.metrics import accuracy_score\n",
    "    import matplotlib.pyplot as plt\n",
    "\n",
    "    # Charger les données\n",
    "    X, y = fetch_openml('mnist_784', version=1, return_X_y=True, as_frame=False)\n",
    "\n",
    "    # Normalisation - Nous normalisons les données car cela aide le réseau à apprendre plus efficacement\n",
    "    X = X / 255.0\n",
    "\n",
    "    # Visualisation des données\n",
    "    # Les données d'origine sont sous forme de vecteur. Nous les redimensionnons en images 28x28 pour les visualiser\n",
    "    X_img = X.reshape(-1, 28, 28)\n",
    "    # Afficher les 10 premières images\n",
    "    for i in range(10):\n",
    "        plt.subplot(2, 5, i + 1)\n",
    "        plt.imshow(X_img[i], cmap='gray')\n",
    "        plt.title(f\"Label: {y[i]}\")  # Afficher le label (vrai) correspondant à l'image\n",
    "        plt.axis('off')\n",
    "    plt.show()\n",
    "\n",
    "    # Redimensionner y\n",
    "    # On utilise OneHotEncoder pour convertir les labels en format one-hot\n",
    "    one_hot_encoder = OneHotEncoder(sparse=False)\n",
    "    y = one_hot_encoder.fit_transform(y.reshape(-1, 1))\n",
    "\n",
    "    # Diviser les données en ensembles d'entraînement et de test\n",
    "    X_train, X_test, y_train, y_test = train_test_split(X, y, test_size=0.2, random_state=42)\n",
    "\n",
    "    # Définition de la fonction d'activation et de sa dérivée\n",
    "    def sigmoid(x):\n",
    "        return 1 / (1 + np.exp(-x))  # La fonction sigmoïde transforme les valeurs en probabilités\n",
    "\n",
    "    def derivative_sigmoid(x):\n",
    "        return sigmoid(x) * (1 - sigmoid(x))  # La dérivée de la sigmoïde est utilisée lors de la rétropropagation\n",
    "\n",
    "    # Paramètres\n",
    "    n_inputs = X_train.shape[1]  # Le nombre de neurones en entrée correspond au nombre de pixels dans une image\n",
    "    n_hidden = 64  # Le nombre de neurones dans la couche cachée est choisi arbitrairement\n",
    "    n_outputs = y_train.shape[1]  # Le nombre de neurones de sortie correspond au nombre de classes possibles (0-9)\n",
    "\n",
    "    # Initialisation des poids\n",
    "    weights_input_hidden = np.random.normal(scale=0.1, size=(n_inputs, n_hidden))  # Poids de la couche d'entrée à la couche cachée\n",
    "    weights_hidden_output = np.random.normal(scale=0.1, size=(n_hidden, n_outputs))  # Poids de la couche cachée à la couche de sortie\n",
    "\n",
    "    learning_rate = 0.1  # Taux d'apprentissage\n",
    "    epochs = 400  # Nombre d'époques d'entraînement\n",
    "\n",
    "    for epoch in range(epochs):\n",
    "        # Propagation vers l'avant\n",
    "        hidden_layer_input = np.dot(X_train, weights_input_hidden)\n",
    "        hidden_layer_output = sigmoid(hidden_layer_input)\n",
    "\n",
    "        output_layer_input = np.dot(hidden_layer_output, weights_hidden_output)\n",
    "        output_layer_output = sigmoid(output_layer_input)\n",
    "\n",
    "        # Rétropropagation\n",
    "        output_error = output_layer_output - y_train\n",
    "        output_delta = output_error * derivative_sigmoid(output_layer_output)\n",
    "\n",
    "        hidden_error = np.dot(output_delta, weights_hidden_output.T)\n",
    "        hidden_delta = hidden_error * derivative_sigmoid(hidden_layer_output)\n",
    "\n",
    "        # Mise à jour des poids\n",
    "        weights_hidden_output -= learning_rate * np.dot(hidden_layer_output.T, output_delta)\n",
    "        weights_input_hidden -= learning_rate * np.dot(X_train.T, hidden_delta)\n",
    "\n",
    "        if epoch % 10 == 0:\n",
    "            # Calcul et affichage de la perte à chaque 10e époque\n",
    "            loss = np.mean(np.square(output_error))\n",
    "            print('Epoch:', epoch, 'Loss:', loss)\n",
    "\n",
    "    # Évaluation du modèle\n",
    "    hidden_layer_input = np.dot(X_test, weights_input_hidden)\n",
    "    hidden_layer_output = sigmoid(hidden_layer_input)\n",
    "\n",
    "    output_layer_input = np.dot(hidden_layer_output, weights_hidden_output)\n",
    "    output_layer_output = sigmoid(output_layer_input)\n",
    "\n",
    "    predictions = np.argmax(output_layer_output, axis=1)  # Les prédictions sont les indices des valeurs maximales de la sortie du réseau\n",
    "    actual = np.argmax(y_test, axis=1)  # Les valeurs réelles sont les indices des 1 dans les labels one-hot\n",
    "\n",
    "    # Afficher la précision du modèle sur l'ensemble de test\n",
    "    print('Test Accuracy:', accuracy_score(actual, predictions))"
   ]
  }
 ],
 "metadata": {
  "kernelspec": {
   "display_name": "Python 3 (ipykernel)",
   "language": "python",
   "name": "python3"
  },
  "language_info": {
   "codemirror_mode": {
    "name": "ipython",
    "version": 3
   },
   "file_extension": ".py",
   "mimetype": "text/x-python",
   "name": "python",
   "nbconvert_exporter": "python",
   "pygments_lexer": "ipython3",
   "version": "3.10.9"
  }
 },
 "nbformat": 4,
 "nbformat_minor": 5
}
